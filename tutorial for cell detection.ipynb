{
 "cells": [
  {
   "cell_type": "code",
   "execution_count": 1,
   "metadata": {},
   "outputs": [
    {
     "name": "stdout",
     "output_type": "stream",
     "text": [
      "Using matplotlib backend: TkAgg\n",
      "Populating the interactive namespace from numpy and matplotlib\n"
     ]
    }
   ],
   "source": [
    "pylab"
   ]
  },
  {
   "cell_type": "code",
   "execution_count": 2,
   "metadata": {
    "collapsed": true
   },
   "outputs": [],
   "source": [
    "#################################################\n",
    "# correct drifts in the \"dynamics movie\"\n",
    "import canal.image.io"
   ]
  },
  {
   "cell_type": "code",
   "execution_count": 3,
   "metadata": {},
   "outputs": [
    {
     "data": {
      "text/plain": [
       "(32736, 1024, 2048)"
      ]
     },
     "execution_count": 3,
     "metadata": {},
     "output_type": "execute_result"
    }
   ],
   "source": [
    "# create loader\n",
    "filename = '/media/ytyoonubt/Analysis161022/161022/s00/161022s00t00_00.nii'\n",
    "movieloader = canal.image.io.Nifti.loader(filename)\n",
    "movieloader.shape"
   ]
  },
  {
   "cell_type": "code",
   "execution_count": 4,
   "metadata": {},
   "outputs": [
    {
     "data": {
      "text/plain": [
       "(1023, 32, 1024, 2048)"
      ]
     },
     "execution_count": 4,
     "metadata": {},
     "output_type": "execute_result"
    }
   ],
   "source": [
    "# load movie and reshape into (t, z, y, x)\n",
    "n_zplanes = 32\n",
    "movie = movieloader.load().reshape((-1, n_zplanes) + movieloader.shape[-2:])\n",
    "movie.shape"
   ]
  },
  {
   "cell_type": "code",
   "execution_count": 5,
   "metadata": {
    "scrolled": true
   },
   "outputs": [
    {
     "data": {
      "text/plain": [
       "array([[[157, 190, 173, ..., 198, 152, 160],\n",
       "        [118, 119, 111, ..., 109, 112, 116],\n",
       "        [114, 105, 106, ..., 115, 107, 107],\n",
       "        ..., \n",
       "        [109, 109, 114, ..., 120, 117, 106],\n",
       "        [113, 166, 114, ..., 113, 123, 116],\n",
       "        [148, 172, 177, ..., 130, 192, 183]],\n",
       "\n",
       "       [[192, 185, 176, ..., 143, 145, 157],\n",
       "        [113, 116, 110, ..., 108, 109, 117],\n",
       "        [110, 107, 108, ..., 113, 108, 106],\n",
       "        ..., \n",
       "        [108, 113, 114, ..., 116, 110, 106],\n",
       "        [112, 114, 113, ..., 113, 113, 115],\n",
       "        [153, 149, 154, ..., 161, 177, 131]],\n",
       "\n",
       "       [[144, 165, 159, ..., 169, 152, 165],\n",
       "        [115, 107, 116, ..., 121, 112, 110],\n",
       "        [106, 110, 109, ..., 115, 108, 107],\n",
       "        ..., \n",
       "        [108, 109, 110, ..., 113, 108, 106],\n",
       "        [124, 111, 109, ..., 109, 120, 113],\n",
       "        [142, 129, 164, ..., 137, 152, 140]],\n",
       "\n",
       "       ..., \n",
       "       [[114, 113, 110, ..., 107, 109, 106],\n",
       "        [113, 106, 106, ..., 108, 115, 110],\n",
       "        [106, 107, 109, ..., 117, 111, 114],\n",
       "        ..., \n",
       "        [109, 107, 110, ..., 113, 113, 106],\n",
       "        [112, 113, 109, ..., 109, 113, 106],\n",
       "        [110, 111, 119, ..., 125, 110, 117]],\n",
       "\n",
       "       [[118, 107, 109, ..., 113, 110, 112],\n",
       "        [114, 107, 110, ..., 108, 110, 107],\n",
       "        [109, 108, 105, ..., 108, 108, 106],\n",
       "        ..., \n",
       "        [109, 114, 107, ..., 116, 107, 106],\n",
       "        [107, 109, 108, ..., 108, 122, 108],\n",
       "        [111, 113, 127, ..., 125, 124, 117]],\n",
       "\n",
       "       [[119, 120, 112, ..., 109, 109, 112],\n",
       "        [117, 107, 107, ..., 111, 106, 107],\n",
       "        [108, 108, 106, ..., 111, 110, 107],\n",
       "        ..., \n",
       "        [108, 107, 110, ..., 113, 110, 104],\n",
       "        [108, 109, 108, ..., 107, 108, 111],\n",
       "        [113, 115, 125, ..., 127, 132, 109]]], dtype=uint16)"
      ]
     },
     "execution_count": 5,
     "metadata": {},
     "output_type": "execute_result"
    }
   ],
   "source": [
    "# max projection along the z-axis\n",
    "proj = np.empty((len(movie),) + movie.shape[-2:], movie.dtype)\n",
    "movie.max(axis=1, out=proj)"
   ]
  },
  {
   "cell_type": "code",
   "execution_count": 6,
   "metadata": {
    "collapsed": true
   },
   "outputs": [],
   "source": [
    "import canal.image.registration"
   ]
  },
  {
   "cell_type": "code",
   "execution_count": 7,
   "metadata": {
    "collapsed": true
   },
   "outputs": [],
   "source": [
    "# create feature detector\n",
    "feature_shape = (256, 256)\n",
    "feature_strides = (32, 32)\n",
    "detector = canal.image.registration.FeatureDetector(feature_shape, feature_strides,\n",
    "                                                    n_keypoints=256)"
   ]
  },
  {
   "cell_type": "code",
   "execution_count": 8,
   "metadata": {},
   "outputs": [
    {
     "name": "stderr",
     "output_type": "stream",
     "text": [
      "  1%|          | 7/833 [00:00<00:11, 69.99feature/s]"
     ]
    },
    {
     "name": "stdout",
     "output_type": "stream",
     "text": [
      "Inspecting features\n"
     ]
    },
    {
     "name": "stderr",
     "output_type": "stream",
     "text": [
      "100%|██████████| 833/833 [00:27<00:00, 30.62feature/s]\n"
     ]
    }
   ],
   "source": [
    "# detect features\n",
    "template = proj[500]\n",
    "keypoints, features = detector.detect(template, verbose=True)"
   ]
  },
  {
   "cell_type": "code",
   "execution_count": 9,
   "metadata": {},
   "outputs": [],
   "source": [
    "# create feature tracker\n",
    "tracker = canal.image.registration.FeatureTracker(keypoints, features)"
   ]
  },
  {
   "cell_type": "code",
   "execution_count": 10,
   "metadata": {},
   "outputs": [
    {
     "name": "stderr",
     "output_type": "stream",
     "text": [
      "  3%|▎         | 7/256 [00:00<00:03, 64.13feature/s]"
     ]
    },
    {
     "name": "stdout",
     "output_type": "stream",
     "text": [
      "Initial search\n"
     ]
    },
    {
     "name": "stderr",
     "output_type": "stream",
     "text": [
      "100%|██████████| 256/256 [00:25<00:00, 17.59feature/s]\n",
      "  0%|          | 0/973 [00:00<?, ?frame/s]"
     ]
    },
    {
     "name": "stdout",
     "output_type": "stream",
     "text": [
      "Tracking\n"
     ]
    },
    {
     "name": "stderr",
     "output_type": "stream",
     "text": [
      "100%|██████████| 973/973 [41:08<00:00,  2.54s/frame]\n"
     ]
    }
   ],
   "source": [
    "# track\n",
    "valid_from = 50 # wait until photo-bleach stabilized\n",
    "trajectory = tracker.track(proj[valid_from:], tolerance=32, verbose=True)"
   ]
  },
  {
   "cell_type": "code",
   "execution_count": 11,
   "metadata": {},
   "outputs": [],
   "source": [
    "# create mapper\n",
    "offsets = canal.image.registration.create_transform(trajectory, keypoints)\n",
    "mapper = canal.image.registration.MovieMapper(movie[valid_from:], offsets)"
   ]
  },
  {
   "cell_type": "code",
   "execution_count": 12,
   "metadata": {},
   "outputs": [
    {
     "name": "stdout",
     "output_type": "stream",
     "text": [
      "(973, 32, 1024, 2048) -> (973, 32, 1003, 2012)\n"
     ]
    }
   ],
   "source": [
    "print('{} -> {}'.format(movie[valid_from:].shape, mapper.shape))\n",
    "# the drift correction ended\n",
    "#########################"
   ]
  },
  {
   "cell_type": "code",
   "execution_count": 13,
   "metadata": {
    "collapsed": true
   },
   "outputs": [],
   "source": [
    "##################################################################################\n",
    "# 1. detect cells in the \"reference movie\"\n",
    "# 2. perform a registration between the \"dynamics movie\" and the \"intermediate movie\"\n",
    "# 3. extract signals\n",
    "import canal.cell"
   ]
  },
  {
   "cell_type": "code",
   "execution_count": 14,
   "metadata": {},
   "outputs": [
    {
     "data": {
      "text/plain": [
       "(34000, 1024, 2048)"
      ]
     },
     "execution_count": 14,
     "metadata": {},
     "output_type": "execute_result"
    }
   ],
   "source": [
    "# load the movie including the \"reference movie\" and the \"intermediate movie\"\n",
    "filename = '/media/ytyoonubt/Analysis161022/161022/s00/161022s00ref.nii'\n",
    "imageloader = canal.image.io.Nifti.loader(filename)\n",
    "imageloader.shape"
   ]
  },
  {
   "cell_type": "code",
   "execution_count": 15,
   "metadata": {},
   "outputs": [
    {
     "data": {
      "text/plain": [
       "(17, 2, 1000, 1024, 2048)"
      ]
     },
     "execution_count": 15,
     "metadata": {},
     "output_type": "execute_result"
    }
   ],
   "source": [
    "# reshape the movie into (t, c, z, y, x)\n",
    "n_channels = 2\n",
    "n_dense_zplanes = 1000\n",
    "image = imageloader.load().reshape((-1, n_channels, n_dense_zplanes) + \n",
    "                                   imageloader.shape[-2:])\n",
    "image.shape"
   ]
  },
  {
   "cell_type": "code",
   "execution_count": 16,
   "metadata": {
    "collapsed": true
   },
   "outputs": [],
   "source": [
    "# copy image\n",
    "reference = np.empty(image.shape[-3:], image.dtype)\n",
    "reference[:] = image[8, 1]\n",
    "intermediate = np.empty_like(reference)\n",
    "intermediate[:] = image[8, 0]"
   ]
  },
  {
   "cell_type": "code",
   "execution_count": 20,
   "metadata": {},
   "outputs": [],
   "source": [
    "# trim image\n",
    "# the images from okazaki have artifacts in column number 3 :(\n",
    "trim_from = 4"
   ]
  },
  {
   "cell_type": "code",
   "execution_count": 24,
   "metadata": {},
   "outputs": [],
   "source": [
    "# find cells\n",
    "nuclei_rad = 10 # radius of the nuclei in pixels\n",
    "cpu_partition = (2, 4, 4)\n",
    "cells = canal.cell.find_cells(reference[..., trim_from:], nuclei_rad, cpu_partition)"
   ]
  },
  {
   "cell_type": "code",
   "execution_count": 27,
   "metadata": {},
   "outputs": [
    {
     "name": "stderr",
     "output_type": "stream",
     "text": [
      "  0%|          | 9/2914 [00:00<00:35, 82.97feature/s]"
     ]
    },
    {
     "name": "stdout",
     "output_type": "stream",
     "text": [
      "Inspecting features\n"
     ]
    },
    {
     "name": "stderr",
     "output_type": "stream",
     "text": [
      "100%|██████████| 2914/2914 [01:02<00:00, 46.71feature/s]\n",
      " 10%|█         | 294/2914 [00:00<00:00, 2937.08point/s]"
     ]
    },
    {
     "name": "stdout",
     "output_type": "stream",
     "text": [
      "Checking distances between the key points\n"
     ]
    },
    {
     "name": "stderr",
     "output_type": "stream",
     "text": [
      " 36%|███▌      | 1049/2914 [00:01<00:05, 365.51point/s]\n",
      "  3%|▎         | 8/256 [00:00<00:03, 69.74feature/s]"
     ]
    },
    {
     "name": "stdout",
     "output_type": "stream",
     "text": [
      "Initial search\n"
     ]
    },
    {
     "name": "stderr",
     "output_type": "stream",
     "text": [
      "100%|██████████| 256/256 [00:12<00:00, 16.59feature/s]\n",
      "  0%|          | 0/17 [00:00<?, ?frame/s]"
     ]
    },
    {
     "name": "stdout",
     "output_type": "stream",
     "text": [
      "Tracking\n"
     ]
    },
    {
     "name": "stderr",
     "output_type": "stream",
     "text": [
      "100%|██████████| 17/17 [00:41<00:00,  2.45s/frame]\n",
      "  3%|▎         | 29/1032 [00:00<00:03, 281.62frame/s]"
     ]
    },
    {
     "name": "stdout",
     "output_type": "stream",
     "text": [
      "XY shift detected: [-10.  -4.]\n",
      "Creating movie\n"
     ]
    },
    {
     "name": "stderr",
     "output_type": "stream",
     "text": [
      "100%|██████████| 1032/1032 [00:01<00:00, 701.19frame/s]\n",
      "  0%|          | 25/32000 [00:00<02:08, 249.57pair/s]"
     ]
    },
    {
     "name": "stdout",
     "output_type": "stream",
     "text": [
      "Measuring distances\n"
     ]
    },
    {
     "name": "stderr",
     "output_type": "stream",
     "text": [
      "100%|██████████| 32000/32000 [01:52<00:00, 284.79pair/s]\n"
     ]
    }
   ],
   "source": [
    "# get a map between the \"dynamics movie\" and the \"intermediate movie\"\n",
    "embedder = canal.image.registration.Embedder(intermediate[..., trim_from:])\n",
    "z_ratio = 17\n",
    "transform = embedder.embed(mapper[-1], z_ratio, verbose=True)"
   ]
  },
  {
   "cell_type": "code",
   "execution_count": 29,
   "metadata": {},
   "outputs": [
    {
     "name": "stderr",
     "output_type": "stream",
     "text": [
      "  7%|▋         | 937/14033 [00:00<00:03, 4225.67cell/s]"
     ]
    },
    {
     "name": "stdout",
     "output_type": "stream",
     "text": [
      "Creating masks\n"
     ]
    },
    {
     "name": "stderr",
     "output_type": "stream",
     "text": [
      "100%|██████████| 14033/14033 [00:03<00:00, 4054.17cell/s]\n",
      "  0%|          | 1/973 [00:00<02:51,  5.66frame/s]"
     ]
    },
    {
     "name": "stdout",
     "output_type": "stream",
     "text": [
      "Extracting signals: 5318 cells\n"
     ]
    },
    {
     "name": "stderr",
     "output_type": "stream",
     "text": [
      "100%|██████████| 973/973 [01:52<00:00,  8.65frame/s]\n"
     ]
    }
   ],
   "source": [
    "# extract signals from the movie\n",
    "valid_cells, signals = canal.cell.extract(mapper, cells, nuclei_rad, transform, verbose=True)\n",
    "# 1, 2, 3 ended\n",
    "################"
   ]
  },
  {
   "cell_type": "code",
   "execution_count": 34,
   "metadata": {},
   "outputs": [],
   "source": [
    "# normalize the signals\n",
    "import canal.signal\n",
    "time_from = 100 # steep photobleaching\n",
    "act_time_scale = 7 # time scale of neural activity\n",
    "normalized = canal.signal.normalize(signals, act_time_scale)"
   ]
  },
  {
   "cell_type": "code",
   "execution_count": 37,
   "metadata": {},
   "outputs": [
    {
     "data": {
      "text/plain": [
       "<matplotlib.image.AxesImage at 0x7f4fab314588>"
      ]
     },
     "execution_count": 37,
     "metadata": {},
     "output_type": "execute_result"
    }
   ],
   "source": [
    "imshow(normalized, aspect='auto')\n",
    "# normalization ended\n",
    "#####################"
   ]
  }
 ],
 "metadata": {
  "kernelspec": {
   "display_name": "Python [default]",
   "language": "python",
   "name": "python3"
  },
  "language_info": {
   "codemirror_mode": {
    "name": "ipython",
    "version": 3
   },
   "file_extension": ".py",
   "mimetype": "text/x-python",
   "name": "python",
   "nbconvert_exporter": "python",
   "pygments_lexer": "ipython3",
   "version": "3.5.3"
  }
 },
 "nbformat": 4,
 "nbformat_minor": 1
}
